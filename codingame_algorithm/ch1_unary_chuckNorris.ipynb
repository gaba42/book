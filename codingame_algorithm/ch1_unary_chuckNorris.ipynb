import sys
import math

# Auto-generated code below aims at helping you parse
# the standard input according to the problem statement.

message = input()
print("input message = " + message, file=sys.stderr)

# Write an answer using print
# To debug: print("Debug messages...", file=sys.stderr, flush=True)

def to_binary(decimal):
    binary = ""

    while decimal > 0:
        remainder = decimal % 2
        binary += str(remainder)
        decimal = decimal // 2
    
    if len(binary) == 6:
        binary += "0"
    
    return binary[::-1]  # 역순


def chuck_norris_encoding(binary_str):
    previous_bit = ""
    answer = ""

    for bit in binary_str:
        if bit != previous_bit:
            if bit == "1":
                answer += " 0 "
            else:
                answer += " 00 "
        
        answer += "0"
        previous_bit = bit
    
    return answer


binary_string = ""

for ch in message:
    binary_string += to_binary(ord(ch))

encoded_message = chuck_norris_encoding(binary_string)

print(encoded_message[1:])
